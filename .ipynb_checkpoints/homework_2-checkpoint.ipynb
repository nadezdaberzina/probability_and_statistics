{
 "cells": [
  {
   "cell_type": "markdown",
   "metadata": {},
   "source": [
    "# Теория вероятностей и математическая статистика"
   ]
  },
  {
   "cell_type": "markdown",
   "metadata": {},
   "source": [
    "## Урок 2. Дискретные случайные величины. Закон распределения вероятностей. Биномиальный закон распределения. Распределение Пуассона"
   ]
  },
  {
   "cell_type": "code",
   "execution_count": 1,
   "metadata": {},
   "outputs": [],
   "source": [
    "from math import factorial\n",
    "from math import e"
   ]
  },
  {
   "cell_type": "code",
   "execution_count": 2,
   "metadata": {},
   "outputs": [],
   "source": [
    "def combinations(n, k):\n",
    "    return int(factorial(n) / (factorial(k) * factorial(n - k)))"
   ]
  },
  {
   "cell_type": "code",
   "execution_count": 3,
   "metadata": {},
   "outputs": [],
   "source": [
    "def bernoulli(n, k, p):\n",
    "    return (combinations(n, k) * (p ** k) * ((1 - p) ** (n - k)))"
   ]
  },
  {
   "cell_type": "code",
   "execution_count": 4,
   "metadata": {},
   "outputs": [],
   "source": [
    "def poisson(a, m):\n",
    "    return ((a ** m) / factorial(m) * (e ** -a))"
   ]
  },
  {
   "cell_type": "markdown",
   "metadata": {},
   "source": [
    "### Задание 1"
   ]
  },
  {
   "cell_type": "markdown",
   "metadata": {},
   "source": [
    "#### Вероятность того, что стрелок попадет в мишень, выстрелив один раз, равна 0.8. Стрелок выстрелил 100 раз. Найдите вероятность того, что стрелок попадет в цель ровно 85 раз."
   ]
  },
  {
   "cell_type": "code",
   "execution_count": 5,
   "metadata": {},
   "outputs": [
    {
     "name": "stdout",
     "output_type": "stream",
     "text": [
      "Вероятность того, что стрелок попадет в цель ровно 85 раз: 0.048061793700746355 или около 4.8%\n"
     ]
    }
   ],
   "source": [
    "print(f'Вероятность того, что стрелок попадет в цель ровно 85 раз: {bernoulli(100, 85, 0.8)} или около 4.8%')"
   ]
  },
  {
   "cell_type": "markdown",
   "metadata": {},
   "source": [
    "### Задание 2"
   ]
  },
  {
   "cell_type": "markdown",
   "metadata": {},
   "source": [
    "#### Вероятность того, что лампочка перегорит в течение первого дня эксплуатации, равна 0.0004. В жилом комплексе после ремонта в один день включили 5000 новых лампочек. Какова вероятность, что ни одна из них не перегорит в первый день? Какова вероятность, что перегорят ровно две?"
   ]
  },
  {
   "cell_type": "code",
   "execution_count": 6,
   "metadata": {},
   "outputs": [
    {
     "name": "stdout",
     "output_type": "stream",
     "text": [
      "Из 5000 новых лампочек в среднем в первый день эксплуатации перегорают 2.0 лампочки\n"
     ]
    }
   ],
   "source": [
    "a = 0.0004 * 5000\n",
    "print(f'Из 5000 новых лампочек в среднем в первый день эксплуатации перегорают {a} лампочки')"
   ]
  },
  {
   "cell_type": "code",
   "execution_count": 7,
   "metadata": {},
   "outputs": [
    {
     "name": "stdout",
     "output_type": "stream",
     "text": [
      "Вероятность, что ни одна из лампочек не перегорит в первый день: 0.1353352832366127 или около 13.53%\n"
     ]
    }
   ],
   "source": [
    "print(f'Вероятность, что ни одна из лампочек не перегорит в первый день: {poisson(2, 0)} или около 13.53%')"
   ]
  },
  {
   "cell_type": "code",
   "execution_count": 8,
   "metadata": {},
   "outputs": [
    {
     "name": "stdout",
     "output_type": "stream",
     "text": [
      "Вероятность, что в первый день перегорят ровно две лампочки: 0.2706705664732254 или около 27.06%\n"
     ]
    }
   ],
   "source": [
    "print(f'Вероятность, что в первый день перегорят ровно две лампочки: {poisson(2, 2)} или около 27.06%')"
   ]
  },
  {
   "cell_type": "markdown",
   "metadata": {},
   "source": [
    "### Задание 3"
   ]
  },
  {
   "cell_type": "markdown",
   "metadata": {},
   "source": [
    "#### Монету подбросили 144 раза. Какова вероятность, что орел выпадет ровно 70 раз?"
   ]
  },
  {
   "cell_type": "code",
   "execution_count": 9,
   "metadata": {},
   "outputs": [
    {
     "name": "stdout",
     "output_type": "stream",
     "text": [
      "Вероятность того, что орел выпадет ровно 70 раз: 0.06281178035144776 или около 6.28%\n"
     ]
    }
   ],
   "source": [
    "print(f'Вероятность того, что орел выпадет ровно 70 раз: {bernoulli(144, 70, 0.5)} или около 6.28%')"
   ]
  },
  {
   "cell_type": "markdown",
   "metadata": {},
   "source": [
    "### Задание 4"
   ]
  },
  {
   "cell_type": "markdown",
   "metadata": {},
   "source": [
    "#### В первом ящике находится 10 мячей, из которых 7 - белые. Во втором ящике - 11 мячей, из которых 9 белых. Из каждого ящика вытаскивают случайным образом по два мяча. Какова вероятность того, что все мячи белые? Какова вероятность того, что ровно два мяча белые? Какова вероятность того, что хотя бы один мяч белый?"
   ]
  },
  {
   "cell_type": "markdown",
   "metadata": {},
   "source": [
    "##### 1) Вероятность того, что все мячи белые"
   ]
  },
  {
   "cell_type": "code",
   "execution_count": 10,
   "metadata": {},
   "outputs": [],
   "source": [
    "P1 = 7 / 10\n",
    "P2 = 6 / 9\n",
    "P3 = 9 / 11\n",
    "P4 = 8 / 10\n",
    "P = P1 * P2 * P3 * P4"
   ]
  },
  {
   "cell_type": "code",
   "execution_count": 11,
   "metadata": {},
   "outputs": [
    {
     "name": "stdout",
     "output_type": "stream",
     "text": [
      "Вероятность того, что все мячи белые: 0.3054545454545454 или около 30.54%\n"
     ]
    }
   ],
   "source": [
    "print(f'Вероятность того, что все мячи белые: {P} или около 30.54%')"
   ]
  },
  {
   "cell_type": "markdown",
   "metadata": {},
   "source": [
    "##### 2) Вероятность того, что ровно два мяча белые"
   ]
  },
  {
   "cell_type": "markdown",
   "metadata": {},
   "source": [
    "##### Посчитаем вероятность того, что два белых мяча были взяты из первого ящика."
   ]
  },
  {
   "cell_type": "code",
   "execution_count": 12,
   "metadata": {},
   "outputs": [],
   "source": [
    "P1 = 7/10\n",
    "P2 = 6/9\n",
    "P3 = 2/11\n",
    "P4 = 1/10\n",
    "P_total_1 = P1 * P2 * P3 * P4"
   ]
  },
  {
   "cell_type": "code",
   "execution_count": 13,
   "metadata": {},
   "outputs": [
    {
     "name": "stdout",
     "output_type": "stream",
     "text": [
      "Вероятность того, что два белых мяча были взяты из первого ящика: 0.008484848484848484 или около 0.84%\n"
     ]
    }
   ],
   "source": [
    "print(f'Вероятность того, что два белых мяча были взяты из первого ящика: {P_total_1} или около 0.84%')"
   ]
  },
  {
   "cell_type": "markdown",
   "metadata": {},
   "source": [
    "##### Посчитаем вероятность того, что два белых мяча были взяты из второго ящика."
   ]
  },
  {
   "cell_type": "code",
   "execution_count": 14,
   "metadata": {},
   "outputs": [],
   "source": [
    "P1 = 3/10\n",
    "P2 = 2/9\n",
    "P3 = 9/11\n",
    "P4 = 8/10\n",
    "P_total_2 = P1 * P2 * P3 * P4"
   ]
  },
  {
   "cell_type": "code",
   "execution_count": 15,
   "metadata": {},
   "outputs": [
    {
     "name": "stdout",
     "output_type": "stream",
     "text": [
      "Вероятность того, что все белые мячи (два) были взяты из второго ящика: 0.04363636363636364 или около 4.36%\n"
     ]
    }
   ],
   "source": [
    "print(f'Вероятность того, что все белые мячи (два) были взяты из второго ящика: {P_total_2} или около 4.36%')"
   ]
  },
  {
   "cell_type": "markdown",
   "metadata": {},
   "source": [
    "##### Посчитаем вероятность того, что один белый мяч был взят из первого ящика, а второй белый мяч из второго"
   ]
  },
  {
   "cell_type": "code",
   "execution_count": 16,
   "metadata": {},
   "outputs": [
    {
     "name": "stdout",
     "output_type": "stream",
     "text": [
      "Вероятность того, что только один мяч из 1-ого ящика окажется белым: 0.4666666666666667 или около 46.66%\n"
     ]
    }
   ],
   "source": [
    "C = combinations(7, 1) * combinations(3, 1)\n",
    "C_total = combinations(10, 2)\n",
    "P1 = C / C_total\n",
    "print(f'Вероятность того, что только один мяч из 1-ого ящика окажется белым: {P1} или около 46.66%')"
   ]
  },
  {
   "cell_type": "code",
   "execution_count": 17,
   "metadata": {},
   "outputs": [
    {
     "name": "stdout",
     "output_type": "stream",
     "text": [
      "Вероятность того, что только один мяч из 2-ого ящика окажется белым: 0.32727272727272727 или около 32.72%\n"
     ]
    }
   ],
   "source": [
    "C = combinations(9, 1) * combinations(2, 1)\n",
    "C_total = combinations(11, 2)\n",
    "P2 = C / C_total\n",
    "print(f'Вероятность того, что только один мяч из 2-ого ящика окажется белым: {P2} или около 32.72%')"
   ]
  },
  {
   "cell_type": "code",
   "execution_count": 18,
   "metadata": {},
   "outputs": [
    {
     "name": "stdout",
     "output_type": "stream",
     "text": [
      "Вероятность того, что один белый мяч был взят из первого ящика, а второй белый мяч из второго 0.15272727272727274 или около 15.72%\n"
     ]
    }
   ],
   "source": [
    "P_total_3 = P1 * P2\n",
    "print(f'Вероятность того, что один белый мяч был взят из первого ящика, а второй белый мяч из второго {P_total_3} или около 15.72%')"
   ]
  },
  {
   "cell_type": "markdown",
   "metadata": {},
   "source": [
    "##### Вероятность того, что ровно два мяча белые"
   ]
  },
  {
   "cell_type": "code",
   "execution_count": 19,
   "metadata": {},
   "outputs": [
    {
     "name": "stdout",
     "output_type": "stream",
     "text": [
      "Вероятность того, что ровно два мяча белые: 0.20484848484848486 или около 20.48%\n"
     ]
    }
   ],
   "source": [
    "print(f'Вероятность того, что ровно два мяча белые: {P_total_1 + P_total_2 + P_total_3} или около 20.48%')"
   ]
  },
  {
   "cell_type": "markdown",
   "metadata": {},
   "source": [
    "##### 3) Вероятность того, что хотя бы один мяч белый"
   ]
  },
  {
   "cell_type": "code",
   "execution_count": 20,
   "metadata": {},
   "outputs": [
    {
     "name": "stdout",
     "output_type": "stream",
     "text": [
      "Пойдем от обратного и посчитаем вероятность того, что все мячи черные.\n"
     ]
    }
   ],
   "source": [
    "print(f'Пойдем от обратного и посчитаем вероятность того, что все мячи черные.')"
   ]
  },
  {
   "cell_type": "code",
   "execution_count": 21,
   "metadata": {},
   "outputs": [],
   "source": [
    "P1 = 3 / 10\n",
    "P2 = 2 / 9\n",
    "P3 = 2 / 11\n",
    "P4 = 1 / 10\n",
    "P = P1 * P2 * P3 * P4"
   ]
  },
  {
   "cell_type": "code",
   "execution_count": 22,
   "metadata": {},
   "outputs": [
    {
     "name": "stdout",
     "output_type": "stream",
     "text": [
      "Вероятность того, что хотя бы один мяч белый: 0.9987878787878788 или около 99.87%\n"
     ]
    }
   ],
   "source": [
    "print(f'Вероятность того, что хотя бы один мяч белый: {1 - P} или около 99.87%')"
   ]
  },
  {
   "cell_type": "code",
   "execution_count": null,
   "metadata": {},
   "outputs": [],
   "source": []
  }
 ],
 "metadata": {
  "kernelspec": {
   "display_name": "Python 3",
   "language": "python",
   "name": "python3"
  },
  "language_info": {
   "codemirror_mode": {
    "name": "ipython",
    "version": 3
   },
   "file_extension": ".py",
   "mimetype": "text/x-python",
   "name": "python",
   "nbconvert_exporter": "python",
   "pygments_lexer": "ipython3",
   "version": "3.7.6"
  }
 },
 "nbformat": 4,
 "nbformat_minor": 4
}
